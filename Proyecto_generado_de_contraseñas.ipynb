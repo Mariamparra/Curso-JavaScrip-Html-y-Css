{
  "nbformat": 4,
  "nbformat_minor": 0,
  "metadata": {
    "colab": {
      "provenance": [],
      "authorship_tag": "ABX9TyMOaSbJZZDmb02oSx3Hak0B",
      "include_colab_link": true
    },
    "kernelspec": {
      "name": "python3",
      "display_name": "Python 3"
    },
    "language_info": {
      "name": "python"
    }
  },
  "cells": [
    {
      "cell_type": "markdown",
      "metadata": {
        "id": "view-in-github",
        "colab_type": "text"
      },
      "source": [
        "<a href=\"https://colab.research.google.com/github/Mariamparra/Curso-JavaScrip-Html-y-Css/blob/main/Proyecto_generado_de_contrase%C3%B1as.ipynb\" target=\"_parent\"><img src=\"https://colab.research.google.com/assets/colab-badge.svg\" alt=\"Open In Colab\"/></a>"
      ]
    },
    {
      "cell_type": "code",
      "source": [
        "import random"
      ],
      "metadata": {
        "id": "D4FxxdeIRsrN"
      },
      "execution_count": null,
      "outputs": []
    },
    {
      "cell_type": "code",
      "execution_count": null,
      "metadata": {
        "colab": {
          "base_uri": "https://localhost:8080/"
        },
        "id": "2r5afCSge4mZ",
        "outputId": "2e657ff0-88a0-4326-d5c9-9bfebf29f1b1"
      },
      "outputs": [
        {
          "output_type": "stream",
          "name": "stdout",
          "text": [
            "Tu nueva contrasena es: K44kCzWFgiJ¬z81\n"
          ]
        }
      ],
      "source": [
        "\n",
        "\n",
        "def generar_contrasena():\n",
        "  mayusculas = ['A', 'B', 'C', 'D', 'E', 'F', 'G', 'H', 'I', 'J', 'K', 'L', 'M', 'N', 'P', 'Q', 'X', 'W', 'Z'] \n",
        "  minusculas = ['a', 'b', 'c', 'd', 'e', 'f', 'g', 'h', 'i', 'j', 'k', 'l', 'm', 'n', 'p', 'q', 'x', 'w', 'z']\n",
        "  simbolos = ['+', '?', '_', '@', '#', '%', '¬']\n",
        "  numeros = ['1', '2', '3', '4',  '5',  '6',  '7',  '8', '9', '0']\n",
        "\n",
        "  caracteres = mayusculas + minusculas + simbolos + numeros\n",
        "\n",
        "  contrasena = []\n",
        "\n",
        "  for i in range(15):\n",
        "    caracter_random = random.choice(caracteres)\n",
        "    contrasena.append(caracter_random)\n",
        "\n",
        "  contrasena = \"\".join(contrasena)\n",
        "  return contrasena\n",
        "\n",
        "\n",
        "def run():\n",
        "  contrasena = generar_contrasena()\n",
        "  print('Tu nueva contrasena es: ' + contrasena)\n",
        "\n",
        "\n",
        "if __name__ == '__main__':\n",
        "  run()\n"
      ]
    },
    {
      "cell_type": "code",
      "source": [
        "round(10.3456, 2)"
      ],
      "metadata": {
        "colab": {
          "base_uri": "https://localhost:8080/"
        },
        "id": "jZCejGtTWOYl",
        "outputId": "724d0dfd-864b-416e-b3b8-83da682fef98"
      },
      "execution_count": null,
      "outputs": [
        {
          "output_type": "execute_result",
          "data": {
            "text/plain": [
              "10.35"
            ]
          },
          "metadata": {},
          "execution_count": 11
        }
      ]
    },
    {
      "cell_type": "code",
      "source": [
        "hola=('maria')\n",
        "\n",
        "mayus=hola.capitalize()\n",
        "print(mayus)\n"
      ],
      "metadata": {
        "colab": {
          "base_uri": "https://localhost:8080/"
        },
        "id": "LEzOc6fHWam7",
        "outputId": "763eaeaf-c6d4-4d28-ecad-4241a21c155d"
      },
      "execution_count": null,
      "outputs": [
        {
          "output_type": "stream",
          "name": "stdout",
          "text": [
            "Maria\n"
          ]
        }
      ]
    },
    {
      "cell_type": "code",
      "source": [
        " es_estudiante=True\n",
        " es_profesor=False\n",
        " print(es_estudiante and es_profesor)"
      ],
      "metadata": {
        "colab": {
          "base_uri": "https://localhost:8080/"
        },
        "id": "i70tUjN1YW39",
        "outputId": "9b18bb92-3794-4574-f381-db249731839b"
      },
      "execution_count": null,
      "outputs": [
        {
          "output_type": "stream",
          "name": "stdout",
          "text": [
            "False\n"
          ]
        }
      ]
    }
  ]
}